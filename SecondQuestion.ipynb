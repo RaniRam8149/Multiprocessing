Q2. What are the differences between multiprocessing and multithreading?
Multiprocessing and multithreading are both techniques used for achieving concurrency in programming, but they differ in several key aspects:

Multiprocessing:
 In multiprocessing, multiple processes run concurrently, each with its own memory space and resources. Processes do not share memory by default and communicate through inter-process communication (IPC) mechanisms such as pipes, queues, or shared memory.
 Provides true parallelism, as processes can run simultaneously on multiple CPU cores.
 Each process has its own memory space, resulting in higher memory overhead compared to  multithreading.

Multithreading:
 In multithreading, multiple threads run within the same process, sharing the same memory space and resources. Threads within a process share data and resources directly, making communication between threads easier but also potentially introducing issues such as race conditions and deadlock.
 Provides concurrency within a single process but may not achieve true parallelism, especially on systems with a single CPU core due to the operating system's time-sharing scheduling.
Threads share the same memory space, resulting in lower memory overhead compared to multiprocessing.
