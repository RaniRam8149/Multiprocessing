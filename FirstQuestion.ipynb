Q1. What is multiprocessing in python? Why is it useful?
Multiprocessing in Python refers to the capability of the Python programming language to create and manage multiple processes concurrently. Each process runs independently and has its own memory space, allowing for true parallelism. This is different from multithreading, where threads share the same memory space and hence might run into issues like race conditions and deadlock.

Multiprocessing is useful for a variety of reasons:
1.Improve performance
2.True Parallelism
3.Resource Isolation
4.Fault Isolation
5.Scalability

 multiprocessing in Python provides a powerful mechanism for improving performance, achieving true parallelism, and scaling applications to effectively utilize modern hardware architectures.
