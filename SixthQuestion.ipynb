Q6. Write a python program to create 4 processes, each process should print a different number using the multiprocessing module in python.
import multiprocessing

def print_number(number):
    print("Process ID:", multiprocessing.current_process().pid, "Number:", number)

if __name__ == "__main__":
    numbers = [10, 20, 30, 40]

    processes = []

    for num in numbers:
        process = multiprocessing.Process(target=print_number, args=(num,))
        processes.append(process)
        process.start()

    for process in processes:
        process.join()

    print("All processes have finished.")
