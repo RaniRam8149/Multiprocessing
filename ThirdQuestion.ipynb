Q3. Write a python code to create a process using the multiprocessing module.
import multiprocessing
import os

def child_process_func():
    print("Child process ID:", os.getpid())

if __name__ == "__main__":
    child_process = multiprocessing.Process(target=child_process_func)

    child_process.start()

    child_process.join()

    print("Parent process ID:", os.getpid())
