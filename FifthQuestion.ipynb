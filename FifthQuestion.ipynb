Q5. How can we create a pool of worker processes in python using the multiprocessing module?
import multiprocessing

def worker_function(x):
    return x*x

if __name__ == "__main__":
    num_processes = 4
    
    with multiprocessing.Pool(processes=num_processes) as pool:
        input_values = [1, 2, 3, 4,5]
        
        results = pool.map(worker_function, input_values)

    print("Results:", results)
